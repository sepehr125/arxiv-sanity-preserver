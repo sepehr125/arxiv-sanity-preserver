{
 "cells": [
  {
   "cell_type": "code",
   "execution_count": 7,
   "metadata": {
    "collapsed": false
   },
   "outputs": [],
   "source": [
    "from spacy.en import English\n",
    "try:\n",
    "    import cPickle as pickle\n",
    "except:\n",
    "    import pickle\n",
    "    \n",
    "from scipy.spatial.distance import pdist, squareform\n",
    "import numpy as np"
   ]
  },
  {
   "cell_type": "code",
   "execution_count": 5,
   "metadata": {
    "collapsed": false
   },
   "outputs": [
    {
     "name": "stdout",
     "output_type": "stream",
     "text": [
      "CPU times: user 1.76 s, sys: 174 ms, total: 1.94 s\n",
      "Wall time: 1.95 s\n"
     ]
    }
   ],
   "source": [
    "%time data = pickle.load(open('db.p', 'rb'))"
   ]
  },
  {
   "cell_type": "code",
   "execution_count": 4,
   "metadata": {
    "collapsed": false
   },
   "outputs": [
    {
     "name": "stdout",
     "output_type": "stream",
     "text": [
      "CPU times: user 1min 38s, sys: 5.19 s, total: 1min 43s\n",
      "Wall time: 1min 45s\n"
     ]
    }
   ],
   "source": [
    "%time nlp = English()"
   ]
  },
  {
   "cell_type": "code",
   "execution_count": 72,
   "metadata": {
    "collapsed": false
   },
   "outputs": [
    {
     "name": "stdout",
     "output_type": "stream",
     "text": [
      "CPU times: user 62.2 ms, sys: 613 ms, total: 675 ms\n",
      "Wall time: 2.07 s\n"
     ]
    }
   ],
   "source": [
    "%time abstracts = {arxid: val['summary'] for arxid, val in data.items()}"
   ]
  },
  {
   "cell_type": "code",
   "execution_count": 73,
   "metadata": {
    "collapsed": false
   },
   "outputs": [
    {
     "name": "stdout",
     "output_type": "stream",
     "text": [
      "CPU times: user 5min 58s, sys: 9.41 s, total: 6min 8s\n",
      "Wall time: 6min 23s\n"
     ]
    }
   ],
   "source": [
    "%time docs = {arxid: nlp(abstract) for arxid, abstract in abstracts.items()}"
   ]
  },
  {
   "cell_type": "code",
   "execution_count": 42,
   "metadata": {
    "collapsed": false
   },
   "outputs": [
    {
     "name": "stdout",
     "output_type": "stream",
     "text": [
      "CPU times: user 6.78 s, sys: 23.8 ms, total: 6.8 s\n",
      "Wall time: 6.8 s\n"
     ]
    }
   ],
   "source": [
    "#%time doc_vecs = np.array([d.vector for v,d in docs.items()])"
   ]
  },
  {
   "cell_type": "code",
   "execution_count": 66,
   "metadata": {
    "collapsed": false
   },
   "outputs": [],
   "source": [
    "vectors = [nlp(doc['summary']).vector for arxid, doc in data.items()]"
   ]
  },
  {
   "cell_type": "code",
   "execution_count": 67,
   "metadata": {
    "collapsed": true
   },
   "outputs": [],
   "source": [
    "doc_vecs = np.array(vectors)"
   ]
  },
  {
   "cell_type": "code",
   "execution_count": 68,
   "metadata": {
    "collapsed": false
   },
   "outputs": [
    {
     "name": "stdout",
     "output_type": "stream",
     "text": [
      "CPU times: user 2min 11s, sys: 20.4 s, total: 2min 31s\n",
      "Wall time: 6min 34s\n"
     ]
    }
   ],
   "source": [
    "%time dists = squareform(pdist(doc_vecs, metric='cosine'))"
   ]
  },
  {
   "cell_type": "code",
   "execution_count": 69,
   "metadata": {
    "collapsed": false
   },
   "outputs": [
    {
     "data": {
      "text/plain": [
       "array([[    0,     1,     2, ..., 21997, 21998, 21999],\n",
       "       [15118, 16894, 21036, ...,  8880, 15597,  9658],\n",
       "       [12137,  7766,  6519, ..., 17756,  9310,  9633],\n",
       "       ..., \n",
       "       [  973, 20586,   973, ...,   973, 10102, 18039],\n",
       "       [ 4691,  7796,  7878, ...,  7796,  7878, 21728],\n",
       "       [17280, 17280,  4691, ..., 17280,  4691,  4691]])"
      ]
     },
     "execution_count": 69,
     "metadata": {},
     "output_type": "execute_result"
    }
   ],
   "source": [
    "np.argsort(dists, axis=0)"
   ]
  },
  {
   "cell_type": "code",
   "execution_count": 79,
   "metadata": {
    "collapsed": false
   },
   "outputs": [
    {
     "data": {
      "text/plain": [
       "ASTRI is a Flagship Project financed by the Italian Ministry of Education,\n",
       "University and Research, and led by INAF, the Italian National Institute of\n",
       "Astrophysics. The primary goal of the ASTRI project is the realization of an\n",
       "end-to-end prototype of a Small Size Telescope for the Cherenkov Telescope\n",
       "Array. The prototype, named ASTRI SST-2M, is based on a completely new double\n",
       "mirror optics design and will be equipped with a camera made of a matrix of\n",
       "SiPM detectors. Here we describe the ASTRI SST-2M camera concept: basic idea,\n",
       "detectors, electronics, current status and some results coming from experiments\n",
       "in lab."
      ]
     },
     "execution_count": 79,
     "metadata": {},
     "output_type": "execute_result"
    }
   ],
   "source": [
    "docs[list(docs.keys())[1]]"
   ]
  },
  {
   "cell_type": "code",
   "execution_count": 81,
   "metadata": {
    "collapsed": false
   },
   "outputs": [
    {
     "data": {
      "text/plain": [
       "It is known that the alternation hierarchy of least and greatest fixpoint\n",
       "operators in the mu-calculus is strict. However, the strictness of the\n",
       "alternation hierarchy does not necessarily carry over when considering\n",
       "restricted classes of structures. A prominent instance is the class of infinite\n",
       "words over which the alternation-free fragment is already as expressive as the\n",
       "full mu-calculus. Our current understanding of when and why the mu-calculus\n",
       "alternation hierarchy is not strict is limited. This paper makes progress in\n",
       "answering these questions by showing that the alternation hierarchy of the\n",
       "mu-calculus collapses to the alternation-free fragment over some classes of\n",
       "structures, including infinite nested words and finite graphs with feedback\n",
       "vertex sets of a bounded size. Common to these classes is that the connectivity\n",
       "between the components in a structure from such a class is restricted in the\n",
       "sense that the removal of certain vertices from the structure's graph\n",
       "decomposes it into graphs in which all paths are of finite length. Our collapse\n",
       "results are obtained in an automata-theoretic setting. They subsume,\n",
       "generalize, and strengthen several prior results on the expressivity of the\n",
       "mu-calculus over restricted classes of structures."
      ]
     },
     "execution_count": 81,
     "metadata": {},
     "output_type": "execute_result"
    }
   ],
   "source": [
    "docs[list(docs.keys())[15597]]"
   ]
  },
  {
   "cell_type": "code",
   "execution_count": 64,
   "metadata": {
    "collapsed": false
   },
   "outputs": [
    {
     "data": {
      "text/plain": [
       "Statistical classification of actions in videos is mostly performed by\n",
       "extracting relevant features, particularly covariance features, from image\n",
       "frames and studying time series associated with temporal evolutions of these\n",
       "features. A natural mathematical representation of activity videos is in form\n",
       "of parameterized trajectories on the covariance manifold, i.e. the set of\n",
       "symmetric, positive-definite matrices (SPDMs). The variable execution-rates of\n",
       "actions implies variable parameterizations of the resulting trajectories, and\n",
       "complicates their classification. Since action classes are invariant to\n",
       "execution rates, one requires rate-invariant metrics for comparing\n",
       "trajectories. A recent paper represented trajectories using their transported\n",
       "square-root vector fields (TSRVFs), defined by parallel translating\n",
       "scaled-velocity vectors of trajectories to a reference tangent space on the\n",
       "manifold. To avoid arbitrariness of selecting the reference and to reduce\n",
       "distortion introduced during this mapping, we develop a purely intrinsic\n",
       "approach where SPDM trajectories are represented by redefining their TSRVFs at\n",
       "the starting points of the trajectories, and analyzed as elements of a vector\n",
       "bundle on the manifold. Using a natural Riemannain metric on vector bundles of\n",
       "SPDMs, we compute geodesic paths and geodesic distances between trajectories in\n",
       "the quotient space of this vector bundle, with respect to the\n",
       "re-parameterization group. This makes the resulting comparison of trajectories\n",
       "invariant to their re-parameterization. We demonstrate this framework on two\n",
       "applications involving video classification: visual speech recognition or\n",
       "lip-reading and hand-gesture recognition. In both cases we achieve results\n",
       "either comparable to or better than the current literature."
      ]
     },
     "execution_count": 64,
     "metadata": {},
     "output_type": "execute_result"
    }
   ],
   "source": [
    "docs[list(docs.keys())[2287]]"
   ]
  },
  {
   "cell_type": "code",
   "execution_count": null,
   "metadata": {
    "collapsed": true
   },
   "outputs": [],
   "source": []
  }
 ],
 "metadata": {
  "kernelspec": {
   "display_name": "Python 3",
   "language": "python",
   "name": "python3"
  },
  "language_info": {
   "codemirror_mode": {
    "name": "ipython",
    "version": 3
   },
   "file_extension": ".py",
   "mimetype": "text/x-python",
   "name": "python",
   "nbconvert_exporter": "python",
   "pygments_lexer": "ipython3",
   "version": "3.4.3"
  }
 },
 "nbformat": 4,
 "nbformat_minor": 0
}
